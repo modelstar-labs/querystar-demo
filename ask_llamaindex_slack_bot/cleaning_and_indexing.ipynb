{
 "cells": [
  {
   "cell_type": "code",
   "execution_count": 1,
   "id": "0e5e9993-618c-4449-a90a-cdba5a81dfd9",
   "metadata": {
    "scrolled": true
   },
   "outputs": [],
   "source": [
    "# run it once on Llama-index Docs directory\n",
    "# only keep .md and .rst files, and remove files of other types\n",
    "import os\n",
    "\n",
    "dir_path = './lidocs'  #local folder of Llama-index documentations\n",
    "for root, dirs, files in os.walk(dir_path):\n",
    "    for file in files:\n",
    "        if file.endswith(('.md', '.rst')):\n",
    "            continue\n",
    "        else:\n",
    "            file_path = os.path.join(root, file)\n",
    "            os.remove(file_path)"
   ]
  },
  {
   "cell_type": "code",
   "execution_count": 2,
   "id": "f56be021-21a8-4028-a2de-378ed51e5476",
   "metadata": {},
   "outputs": [],
   "source": [
    "import logging\n",
    "import sys\n",
    "\n",
    "logging.basicConfig(stream=sys.stdout, level=logging.DEBUG)\n",
    "logging.getLogger().addHandler(logging.StreamHandler(stream=sys.stdout))"
   ]
  },
  {
   "cell_type": "code",
   "execution_count": 3,
   "id": "4dda7fcc-16b5-4272-9165-5ccdb318763e",
   "metadata": {},
   "outputs": [
    {
     "name": "stdout",
     "output_type": "stream",
     "text": [
      "INFO:numexpr.utils:NumExpr defaulting to 8 threads.\n",
      "NumExpr defaulting to 8 threads.\n",
      "DEBUG:llama_index.readers.file.base:> [SimpleDirectoryReader] Total files added: 194\n",
      "> [SimpleDirectoryReader] Total files added: 194\n"
     ]
    }
   ],
   "source": [
    "from llama_index import SimpleDirectoryReader\n",
    "\n",
    "reader = SimpleDirectoryReader(input_dir=\"./lidocs\", recursive=True)\n",
    "lidocs = reader.load_data()"
   ]
  },
  {
   "cell_type": "code",
   "execution_count": null,
   "id": "8e6174ce-44f1-4860-9526-33aa333e2949",
   "metadata": {
    "scrolled": true
   },
   "outputs": [],
   "source": [
    "import openai\n",
    "from llama_index.llms import OpenAI\n",
    "from llama_index import VectorStoreIndex, ServiceContext\n",
    "\n",
    "openai.api_key = os.getenv('OPENAI_API_KEY')\n",
    "\n",
    "system_prompt = '''You are an senior software developer. \n",
    "your job is to answer technical questions based on Llama-index's documentation. \n",
    "Keep your answers technical and based on the given facts – do not hallucinate features.'''\n",
    "\n",
    "service_context = ServiceContext.from_defaults(llm=OpenAI(model=\"gpt-3.5-turbo\", temperature=0, system_prompt=system_prompt))\n",
    "index = VectorStoreIndex.from_documents(lidocs, service_context=service_context)\n"
   ]
  },
  {
   "cell_type": "code",
   "execution_count": 8,
   "id": "3d4b953f-a49f-418d-8779-57a633d9c395",
   "metadata": {},
   "outputs": [],
   "source": [
    "# save index to files\n",
    "index.storage_context.persist()"
   ]
  }
 ],
 "metadata": {
  "kernelspec": {
   "display_name": "Python 3 (ipykernel)",
   "language": "python",
   "name": "python3"
  },
  "language_info": {
   "codemirror_mode": {
    "name": "ipython",
    "version": 3
   },
   "file_extension": ".py",
   "mimetype": "text/x-python",
   "name": "python",
   "nbconvert_exporter": "python",
   "pygments_lexer": "ipython3",
   "version": "3.11.0"
  }
 },
 "nbformat": 4,
 "nbformat_minor": 5
}
