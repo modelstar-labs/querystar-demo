{
 "cells": [
  {
   "cell_type": "code",
   "execution_count": 2,
   "id": "0e5e9993-618c-4449-a90a-cdba5a81dfd9",
   "metadata": {
    "scrolled": true
   },
   "outputs": [],
   "source": [
    "# run it once on Llama-index Docs directory\n",
    "# only keep .md and .rst files, and remove files of other types\n",
    "import os\n",
    "\n",
    "dir_path = './lidocs'  #local folder of Llama-index documentations\n",
    "for root, dirs, files in os.walk(dir_path):\n",
    "    for file in files:\n",
    "        if file.endswith(('.md', '.rst')):\n",
    "            continue\n",
    "        else:\n",
    "            file_path = os.path.join(root, file)\n",
    "            os.remove(file_path)"
   ]
  },
  {
   "cell_type": "code",
   "execution_count": 3,
   "id": "4dda7fcc-16b5-4272-9165-5ccdb318763e",
   "metadata": {},
   "outputs": [],
   "source": [
    "from llama_index import SimpleDirectoryReader\n",
    "\n",
    "reader = SimpleDirectoryReader(input_dir=\"./lidocs\", recursive=True)\n",
    "lidocs = reader.load_data()"
   ]
  },
  {
   "cell_type": "code",
   "execution_count": 4,
   "id": "8e6174ce-44f1-4860-9526-33aa333e2949",
   "metadata": {
    "scrolled": true
   },
   "outputs": [],
   "source": [
    "import openai\n",
    "from llama_index import VectorStoreIndex\n",
    "\n",
    "openai.api_key = os.getenv('OPENAI_API_KEY')\n",
    "index = VectorStoreIndex.from_documents(lidocs)\n"
   ]
  },
  {
   "cell_type": "code",
   "execution_count": 8,
   "id": "3d4b953f-a49f-418d-8779-57a633d9c395",
   "metadata": {},
   "outputs": [],
   "source": [
    "# save index to files\n",
    "index.storage_context.persist()"
   ]
  },
  {
   "cell_type": "code",
   "execution_count": null,
   "id": "d288b5b7",
   "metadata": {},
   "outputs": [],
   "source": [
    "def ask_llamaindex(question: str):\n",
    "\n",
    "    # rebuild storage context\n",
    "    storage_context = StorageContext.from_defaults(persist_dir=\"./storage\")\n",
    "    # load index\n",
    "    index = load_index_from_storage(storage_context)\n",
    "    query_engine = index.as_query_engine()\n",
    "    response = query_engine.query(question)\n",
    "\n",
    "    return response\n",
    "\n",
    "question = 'what is llamaindex?'\n",
    "\n",
    "answer = ask_llamaindex(question)\n",
    "print(answer)"
   ]
  }
 ],
 "metadata": {
  "kernelspec": {
   "display_name": "Python 3 (ipykernel)",
   "language": "python",
   "name": "python3"
  },
  "language_info": {
   "codemirror_mode": {
    "name": "ipython",
    "version": 3
   },
   "file_extension": ".py",
   "mimetype": "text/x-python",
   "name": "python",
   "nbconvert_exporter": "python",
   "pygments_lexer": "ipython3",
   "version": "3.11.0"
  }
 },
 "nbformat": 4,
 "nbformat_minor": 5
}
